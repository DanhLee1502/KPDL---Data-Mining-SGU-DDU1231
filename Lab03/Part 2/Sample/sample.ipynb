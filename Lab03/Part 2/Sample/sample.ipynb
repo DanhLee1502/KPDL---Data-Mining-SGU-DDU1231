{
 "cells": [
  {
   "cell_type": "code",
   "execution_count": null,
   "id": "4bc6cb5b",
   "metadata": {},
   "outputs": [],
   "source": [
    "import pandas as pd\n",
    "houseprices_data = r\"C:\\Users\\MSI GAMING\\Documents\\Khai phá dữ liệu\\Lab03_Lê Thành Danh_3123580005\\Phần 2\\HousingPrices-Amsterdam-August-2021.csv\"\n",
    "houseprices_data = houseprices_data[['Zip', 'Price', 'Area', 'Room']]\n",
    "# Create a PriceperSqm variable based on the Price and Area variables:\n",
    "houseprices_data['PriceperSqm'] = houseprices_data['Price']/\n",
    "houseprices_data['Area']"
   ]
  },
  {
   "cell_type": "code",
   "execution_count": null,
   "id": "63e5e82f",
   "metadata": {},
   "outputs": [],
   "source": [
    "houseprices_sorted = houseprices_data.sort_values('Price', ascending =\n",
    "False)\n",
    "houseprices_sorted.head()\n",
    "# case 1: basic\n",
    "plt.figure(figsize= (12,6))\n",
    "x = houseprices_sorted['Zip'][0:10]\n",
    "y = houseprices_sorted['Price'][0:10]\n",
    "plt.bar(x,y)\n",
    "plt.show()"
   ]
  },
  {
   "cell_type": "code",
   "execution_count": null,
   "id": "31c030db",
   "metadata": {},
   "outputs": [],
   "source": [
    "# case 2: advanced 1\n",
    "plt.figure(figsize= (12,6))\n",
    "plt.bar(x,y)\n",
    "plt.title('Top 10 Areas with the highest house prices', fontsize=15)\n",
    "plt.xlabel('Zip code', fontsize = 12)\n",
    "plt.xticks(fontsize=10)\n",
    "plt.ylabel('House prices in millions', fontsize=12)\n",
    "plt.yticks(fontsize=10)\n",
    "plt.show()"
   ]
  },
  {
   "cell_type": "code",
   "execution_count": null,
   "id": "a0dad734",
   "metadata": {},
   "outputs": [],
   "source": [
    "# case 3: advanced 2\n",
    "fig, ax = plt.subplots(figsize=(40,18))\n",
    "x = houseprices_sorted['Zip'][0:10]\n",
    "y = houseprices_sorted['Price'][0:10]\n",
    "y1 = houseprices_sorted['PriceperSqm'][0:10]\n",
    "plt.subplot(1,2,1)\n",
    "plt.bar(x,y)\n",
    "plt.xticks(fontsize=17)\n",
    "plt.ylabel('House prices in millions', fontsize=25)\n",
    "plt.yticks(fontsize=20)\n",
    "plt.title('Top 10 Areas with the highest house prices',\n",
    "fontsize=25)\n",
    "plt.subplot(1,2,2)\n",
    "plt.bar(x,y1)\n",
    "plt.xticks(fontsize=17)\n",
    "plt.ylabel('House prices per sqm', fontsize=25)\n",
    "plt.yticks(fontsize=20)\n",
    "plt.title('Top 10 Areas with the highest house prices per sqm',\n",
    "fontsize=25)\n",
    "plt.show()"
   ]
  }
 ],
 "metadata": {
  "kernelspec": {
   "display_name": "base",
   "language": "python",
   "name": "python3"
  },
  "language_info": {
   "name": "python",
   "version": "3.13.5"
  }
 },
 "nbformat": 4,
 "nbformat_minor": 5
}
