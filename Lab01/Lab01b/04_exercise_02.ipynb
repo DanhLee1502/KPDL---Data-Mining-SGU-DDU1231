{
 "cells": [
  {
   "cell_type": "markdown",
   "id": "154c8525-a8b1-4532-8b8c-a6048596e61b",
   "metadata": {},
   "source": [
    "# Kỹ thuật lập trình Python"
   ]
  },
  {
   "cell_type": "markdown",
   "id": "bff7ceae-0971-41e5-9ad6-a25c303fecab",
   "metadata": {},
   "source": [
    "## Làm quen với Numpy"
   ]
  },
  {
   "cell_type": "markdown",
   "id": "bda2fb69-42db-4a12-8b57-7b4815510961",
   "metadata": {},
   "source": [
    "### Bài 1. Tính toán trên dãy số"
   ]
  },
  {
   "cell_type": "markdown",
   "id": "04e6a456-6793-4645-b159-426121c860a6",
   "metadata": {},
   "source": [
    "#### 1. Tạo một dãy số a có N phần tử (N = 10)"
   ]
  },
  {
   "cell_type": "code",
   "execution_count": 2,
   "id": "bac1a84b-a496-40c6-962e-97c0acaf7d8e",
   "metadata": {},
   "outputs": [
    {
     "name": "stdout",
     "output_type": "stream",
     "text": [
      "1. Tạo một dãy số a có N phần tử (N = 10)\n",
      "Day so a:  [120 183 160 175 145 162 190 160 152 162]\n"
     ]
    }
   ],
   "source": [
    "import numpy as np # Khai báo thư viện numpy\n",
    "\n",
    "print(\"1. Tạo một dãy số a có N phần tử (N = 10)\")\n",
    "a = np.array(list(map(int, input(\"Moi ban nhap day so (cach nhau boi khoang trang): \").split())))\n",
    "# ...\n",
    "\n",
    "print(\"Day so a: \", a)"
   ]
  },
  {
   "cell_type": "markdown",
   "id": "4d85d8e2-16ff-42d1-acda-97e62736aaf6",
   "metadata": {},
   "source": [
    "#### 2. Các thao tác trên dãy số a\n",
    "(a) Bình phương các phần tử trong dãy số <br/>\n",
    "(b) Tìm số lượng các phần tử của dãy số <br/>\n",
    "(c) In ra giá trị lớn nhất, giá trị nhỏ nhất và giá trị trung bình <br/>\n",
    "(d) Tính phương sai của dãy số $\\sigma^2 = \\frac{\\sum{\\left(a_i - \\mu\\right)^2}}{N - 1}$ với $\\mu = \\frac{\\sum{a_i}}{N}$ và độ lệch chuẩn $var = \\sqrt{\\sigma^2}$"
   ]
  },
  {
   "cell_type": "code",
   "execution_count": 8,
   "id": "5d245b5b-90d5-48bf-b870-fc7c2deecd12",
   "metadata": {},
   "outputs": [
    {
     "name": "stdout",
     "output_type": "stream",
     "text": [
      "2. Các thao tác tính toán đơn giản với dãy số a\n",
      "a. Binh phuong a:  [14400 33489 25600 30625 21025 26244 36100 25600 23104 26244]\n",
      "\n",
      "b. Do dai a:  10\n",
      "\n",
      "c. Gia tri lon nhat: [190], gia tri nho nhat: [120], gia tri trung binh [160.9]\n",
      "\n",
      "d. Phuong sai: [ 393.66] va do lech chuan: [ 19.84]\n"
     ]
    }
   ],
   "source": [
    "print(\"2. Các thao tác tính toán đơn giản với dãy số a\")\n",
    "# a) Bình phương\n",
    "a2 = a ** 2\n",
    "# b) Độ dài\n",
    "na = len(a)\n",
    "\n",
    "# ...\n",
    "\n",
    "print(\"a. Binh phuong a: \", a2)\n",
    "print(\"\\nb. Do dai a: \", na)\n",
    "\n",
    "# c) Giá trị lớn nhất, nhỏ nhất, trung bình\n",
    "v_max = np.max(a)\n",
    "v_min = np.min(a)\n",
    "v_avg = np.mean(a)\n",
    "# ...\n",
    "\n",
    "print(f'\\nc. Gia tri lon nhat: [{v_max}], gia tri nho nhat: [{v_min}], gia tri trung binh [{v_avg}]')\n",
    "\n",
    "# d) Phương sai và độ lệch chuẩn\n",
    "v_sigma2 = np.var(a, ddof=1)\n",
    "v_var = np.std(a, ddof=1)\n",
    "# ...\n",
    "\n",
    "print(f'\\nd. Phuong sai: [{v_sigma2: .2f}] va do lech chuan: [{v_var: .2f}]')"
   ]
  },
  {
   "cell_type": "markdown",
   "id": "1b582e22-cc99-4933-892b-e0d83672fb7f",
   "metadata": {},
   "source": [
    "#### 3. Toán tử trên hai dãy số\n",
    "(a) Tạo dãy số x có 10 phần tử từ 1 đến 10 (dùng hàm np.arange) <br/>\n",
    "(b) Liệt kê và đếm số lượng phần tử chẵn và lẻ có trong dãy a và x <br/>\n",
    "(c) Tính khoảng cách giữa các phần tử ở vị trí lẻ của mảng a và x với $s = \\sqrt{\\sum{\\left(a_i - x_i\\right)^2}}$ với $i$ lẻ<br/>\n",
    "(d) Tìm khoảng cách nhỏ nhất giữa tập a và x. Ví dụ: min({1, 3, 5}, {2, 10, 8}} = 1"
   ]
  },
  {
   "cell_type": "code",
   "execution_count": 10,
   "id": "1c6f51c1-ac3d-46a8-ab35-0d087877fb9d",
   "metadata": {},
   "outputs": [
    {
     "name": "stdout",
     "output_type": "stream",
     "text": [
      "3. Xử lý khác trên dãy số\n",
      "a. Day so x: [ 1  2  3  4  5  6  7  8  9 10]\n"
     ]
    }
   ],
   "source": [
    "print(\"3. Xử lý khác trên dãy số\")\n",
    "# a) Tạo dãy số x\n",
    "x = np.arange(1, 11)\n",
    "# ...\n",
    "\n",
    "print(f'a. Day so x: {x}')"
   ]
  },
  {
   "cell_type": "code",
   "execution_count": 11,
   "id": "13211d38-0008-49ba-ac7b-c4ea034d12f4",
   "metadata": {},
   "outputs": [
    {
     "name": "stdout",
     "output_type": "stream",
     "text": [
      "b. Cac phan tu chan trong day a, b: \n",
      "+ Day a: [120 183 160 175 145 162 190 160 152 162]\n",
      "  - Loc chan: [ True False  True False False  True  True  True  True  True]\n",
      "  - Day chua phan tu chan trong a: [120 160 162 190 160 152 162], so luong 7 phan tu.\n",
      "+ Day x: [ 1  2  3  4  5  6  7  8  9 10]\n",
      "  - Loc chan: [False  True False  True False  True False  True False  True]\n",
      "  - Day chua phan tu chan trong a: [ 2  4  6  8 10], so luong 5 phan tu.\n"
     ]
    }
   ],
   "source": [
    "# b) Liệt kê và đếm số phần tử chẵn/lẻ\n",
    "a_la_chan = (a % 2 == 0)\n",
    "a_chan = a[a_la_chan]\n",
    "n_a_chan = len(a_chan)\n",
    "\n",
    "x_la_chan = (x % 2 == 0)\n",
    "x_chan = x[x_la_chan]\n",
    "n_x_chan = len(x_chan)\n",
    "# ...\n",
    "\n",
    "print( \"b. Cac phan tu chan trong day a, b: \")\n",
    "print(f\"+ Day a: {a}\")\n",
    "print(f\"  - Loc chan: {a_la_chan}\")\n",
    "print(f\"  - Day chua phan tu chan trong a: {a_chan}, so luong {n_a_chan} phan tu.\")\n",
    "print(f\"+ Day x: {x}\")\n",
    "print(f\"  - Loc chan: {x_la_chan}\")\n",
    "print(f\"  - Day chua phan tu chan trong a: {x_chan}, so luong {n_x_chan} phan tu.\")"
   ]
  },
  {
   "cell_type": "code",
   "execution_count": 12,
   "id": "1d441e53-26ad-45ff-a6d4-6abbb9c66f65",
   "metadata": {},
   "outputs": [
    {
     "name": "stdout",
     "output_type": "stream",
     "text": [
      "c.Tính hiệu các phần tử ở vị trí lẻ của mảng a và x: \n",
      "+ Vi tri le trong a va x: [1 3 5 7 9]\n",
      "+ Day so a: [120 183 160 175 145 162 190 160 152 162] va cac so o vi tri le: [183 175 162 160 162]\n",
      "+ Day so x: [ 1  2  3  4  5  6  7  8  9 10] va cac so o vi tri le: [ 2  4  6  8 10]\n",
      "+ Hieu cua a va x o vi tri le: [181 171 156 152 152]\n",
      "+ Khoang cach cac phan tu cua a va x o vi tri le:  364.07\n"
     ]
    }
   ],
   "source": [
    "# c) Tính khoảng cách giữa các phần tử ở vị trí lẻ\n",
    "v_le = np.arange(1, len(a), 2)   # vị trí lẻ (index 1,3,5,...)\n",
    "a_le = a[v_le]\n",
    "x_le = x[v_le]\n",
    "hieu_le = a_le - x_le\n",
    "kc_le = np.sqrt(np.sum(hieu_le**2))\n",
    "# ...\n",
    "\n",
    "print( \"c.Tính hiệu các phần tử ở vị trí lẻ của mảng a và x: \")\n",
    "print(f\"+ Vi tri le trong a va x: {v_le}\")\n",
    "print(f\"+ Day so a: {a} va cac so o vi tri le: {a_le}\")\n",
    "print(f\"+ Day so x: {x} va cac so o vi tri le: {x_le}\")\n",
    "print(f\"+ Hieu cua a va x o vi tri le: {hieu_le}\")\n",
    "print(f\"+ Khoang cach cac phan tu cua a va x o vi tri le: {kc_le: .2f}\")"
   ]
  },
  {
   "cell_type": "code",
   "execution_count": 13,
   "id": "92f5e91d-e213-4146-b873-0d2936c6990e",
   "metadata": {},
   "outputs": [
    {
     "name": "stdout",
     "output_type": "stream",
     "text": [
      "d. Tìm khoảng cách nhỏ nhất giữa tập a và x. Ví dụ: min({1, 3, 5}, {2, 10, 8}} = 1\n",
      "+ Day a: [120 183 160 175 145 162 190 160 152 162]\n",
      "+ Day x: [ 1  2  3  4  5  6  7  8  9 10]\n",
      "+ Khoang cach nho nhat: 110\n"
     ]
    }
   ],
   "source": [
    "print(\"d. Tìm khoảng cách nhỏ nhất giữa tập a và x. Ví dụ: min({1, 3, 5}, {2, 10, 8}} = 1\")\n",
    "\"\"\"\n",
    "Gợi ý: Áp dụng toán tử broatcasting\n",
    "[[1],                    [[1, 1, 1],        [[2, 10, 8],    =   [[-1, -9, -7],\n",
    " [3],   - [2, 10, 8] =    [3, 3, 3],   -     [2, 10, 8],         [ 1, -7, -5],  --> np.min(np.abs(...)) = 1\n",
    " [5]]                     [5, 5, 5]]         [2, 10, 8]]         [ 3, -5, -3]]\n",
    "\"\"\"\n",
    "# d) Tìm khoảng cách nhỏ nhất giữa tập a và x\n",
    "# broadcasting: mỗi phần tử của a trừ cho toàn bộ x\n",
    "hieu = a[:, np.newaxis] - x\n",
    "v_min = np.min(np.abs(hieu))\n",
    "# Tăng số chiều dùng tại vị trí chiều cuối dùng np.newaxis như sau: a[:, np.newaxis]\n",
    "# ...\n",
    "\n",
    "print(f\"+ Day a: {a}\")\n",
    "print(f\"+ Day x: {x}\")\n",
    "print(f\"+ Khoang cach nho nhat: {v_min}\")"
   ]
  },
  {
   "cell_type": "markdown",
   "id": "d18845b8-0d51-4666-ba1c-5ff836ef3d54",
   "metadata": {},
   "source": [
    "#### 4. Sinh ngẫu nhiên dãy số\n",
    "(a) Sinh ngẫu nhiên dãy số có 100 phần tử theo phân bố đều với giá trị trong đoạn [1, 10] và vẽ đồ thị tần số xuất hiện <br/> \n",
    "(b) Sinh ngẫu nhiên N diem (x, y) với y là hàm phân phối chuẩn $N(\\mu = 1, \\sigma^2 = 1.0)$: <br/>\n",
    " $$\n",
    " y = f\\left(x| \\mu, \\sigma\\right) = \\frac{1}{\\sigma\\sqrt{2\\pi}}exp\\left(-\\frac{\\left(x - \\mu\\right)^2}{2\\sigma^2}\\right)\n",
    " $$\n",
    " nơi mà $x \\in [\\mu - 5\\sigma, \\mu + 5\\sigma]$ <br/> \n",
    " (c) Sinh ngẫu nhiên dãy số có 100000 phần tử theo phân bố chuẩn $N(\\mu = 1, \\sigma^2 = 1.0)$ và vẽ đồ thị tần số xuất hiện <br/> <br/> "
   ]
  },
  {
   "cell_type": "code",
   "execution_count": 62,
   "id": "4d35cd9c-3163-486e-baef-63180ff2f5b6",
   "metadata": {},
   "outputs": [
    {
     "name": "stdout",
     "output_type": "stream",
     "text": [
      "a. Sinh ngẫu nhiên theo phân bố đều\n",
      "+ Gia tri: [ 1  2  3  4  5  6  7  8  9 10]\n",
      "+ So lan xuat hien: [ 8 11 13 12 10  7  7 12 11  9]\n",
      "+ Do thi ham so xuat hien\n"
     ]
    },
    {
     "data": {
      "image/png": "[encoded data removed]",
      "text/plain": [
       "<Figure size 600x600 with 1 Axes>"
      ]
     },
     "metadata": {},
     "output_type": "display_data"
    }
   ],
   "source": [
    "import matplotlib.pyplot as plt  # Khai báo thư viện pyplot trong matplotlib\n",
    "\n",
    "random_uniform_data = np.random.randint(1, 11, 100)\n",
    "\n",
    "# Sử dụng hàm np.unique để đếm tần số xuất hiện của mỗi giá trị\n",
    "value, cnt = np.unique(random_uniform_data, return_counts=True)\n",
    "# Sử dụng hàm np.random.randint để sinh dãy số ngẫu nhiên\n",
    "# Sử dụng hàm np.unique để trả về tần số xuất hiện\n",
    "# ...\n",
    "\n",
    "print(\"a. Sinh ngẫu nhiên theo phân bố đều\")\n",
    "print(f\"+ Gia tri: {value}\")\n",
    "print(f\"+ So lan xuat hien: {cnt}\")\n",
    "print(\"+ Do thi ham so xuat hien\")\n",
    "plt.figure(figsize=(6,6))      #  kich thuoc ban ve\n",
    "plt.bar(value, cnt)            #  ve cac khoi chu nhat theo day x, y\n",
    "plt.xlim(0, 11)                #  gioi han truc x\n",
    "plt.ylim(0, np.max(cnt) + 10)  #  gioi han truc y\n",
    "plt.savefig(\"4a.png\")          #  luu do thi\n",
    "plt.show()                     #  hien thi do thi"
   ]
  },
  {
   "cell_type": "code",
   "execution_count": 66,
   "id": "55c99911-a213-4961-85b7-2ef09b775945",
   "metadata": {},
   "outputs": [
    {
     "name": "stdout",
     "output_type": "stream",
     "text": [
      "b. Sinh cặp (x, y) với y làm hàm phân phối chuẩn\n",
      "+ x: -4.0 <= min [-3.97] <= max [ 5.98] <= 6.0\n",
      "+ Ve ham so y(x)\n"
     ]
    },
    {
     "data": {
      "image/png": "[encoded data removed]",
      "text/plain": [
       "<Figure size 600x600 with 1 Axes>"
      ]
     },
     "metadata": {},
     "output_type": "display_data"
    }
   ],
   "source": [
    "mu, sigma = 1, 1.0\n",
    "N = 200\n",
    "\n",
    "# Sinh ngẫu nhiên x trong [mu - 5*sigma, mu + 5*sigma]\n",
    "x_min, x_max = mu - 5*sigma, mu + 5*sigma\n",
    "x = np.random.uniform(x_min, x_max, N)\n",
    "\n",
    "# Tính y theo công thức hàm mật độ chuẩn\n",
    "y = (1 / (sigma * np.sqrt(2*np.pi))) * np.exp(-(x - mu)**2 / (2*sigma**2))\n",
    "# Sử dụm hàm np.random.rand() sinh số ngẫu nhiên trong [0,1) --> [0,1) * (b - a) + a --> [a, b)\n",
    "# Sử dụng hàm sau để tính hàm xác suất chuẩn N(m, s): np.sqrt, np.exp\n",
    "# ...\n",
    "\n",
    "print(\"b. Sinh cặp (x, y) với y làm hàm phân phối chuẩn\")\n",
    "print(f\"+ x: {x_min} <= min [{np.min(x): .2f}] <= max [{np.max(x): .2f}] <= {x_max}\")\n",
    "print(f\"+ Ve ham so y(x)\")\n",
    "plt.figure(figsize=(6,6))      # kich thuoc ban ve\n",
    "plt.scatter(x, y)              # ve cac diem (xi, yi)\n",
    "plt.savefig(\"4b.png\")          #  luu do thi\n",
    "plt.show()                     #  hien thi do thi"
   ]
  },
  {
   "cell_type": "code",
   "execution_count": 68,
   "id": "0b4cf743-6afa-47da-8d3e-61f84623c707",
   "metadata": {},
   "outputs": [
    {
     "name": "stdout",
     "output_type": "stream",
     "text": [
      "c. Sinh day so theo phan phoi chuan\n",
      "+ x: len = 200, min [-3.9728385075439285], max [5.982666722138253]\n",
      "+ Mat so xac suat cua day so x\n"
     ]
    },
    {
     "data": {
      "image/png": "[encoded data removed]",
      "text/plain": [
       "<Figure size 600x600 with 1 Axes>"
      ]
     },
     "metadata": {},
     "output_type": "display_data"
    }
   ],
   "source": [
    "x_normal = mu + np.random.randn(100000) * sigma\n",
    "\n",
    "# Sử dụng hàm np.histogram để thống kê mật độ xác suất\n",
    "# bins=300: chia dữ liệu thành 300 khoảng để đếm\n",
    "# density=True: chuẩn hóa kết quả để diện tích dưới đồ thị bằng 1 (mật độ xác suất)\n",
    "cnt, bin_edges = np.histogram(x_normal, bins=300, density=True)\n",
    "\n",
    "# Lấy điểm giữa của mỗi khoảng (bin) để vẽ đồ thị\n",
    "val = (bin_edges[:-1] + bin_edges[1:]) / 2\n",
    "# Sử dụng hàm np.random.randn() sinh phân phối chuẩn N(0,1) --> N(m,s^2) = m + N(0,1) * s\n",
    "# Sử dụng hàm np.histogram với density=True để thống kê số lần xuất hiện với số bins = 300 (do dãy số thực)\n",
    "# ...\n",
    "\n",
    "print( \"c. Sinh day so theo phan phoi chuan\")\n",
    "print(f\"+ x: len = {len(x)}, min [{np.min(x)}], max [{np.max(x)}]\")\n",
    "print(f\"+ Mat so xac suat cua day so x\")\n",
    "plt.figure(figsize=(6,6))      # kich thuoc ban ve\n",
    "plt.xlim(np.min(val), np.max(val))\n",
    "plt.scatter(val, cnt)\n",
    "plt.show()"
   ]
  },
  {
   "cell_type": "markdown",
   "id": "4f1a6dde-3e75-4dc7-8bab-40b7b9e17091",
   "metadata": {},
   "source": [
    "### Bài 2. Tính toán trên ma trận"
   ]
  },
  {
   "cell_type": "markdown",
   "id": "8ce5c9f7-de68-44cf-a1ce-950822c408d3",
   "metadata": {},
   "source": [
    "#### 1. Tạo ma trận a có M = 6 dòng, N = 4 cột"
   ]
  },
  {
   "cell_type": "code",
   "execution_count": 3,
   "id": "17b1f09d-11c7-4711-8b40-f67abd54323e",
   "metadata": {},
   "outputs": [
    {
     "name": "stdout",
     "output_type": "stream",
     "text": [
      "Ma trận a: \n",
      " [[136 126 151 174]\n",
      " [111 151 181 125]\n",
      " [146 117 137 166]\n",
      " [154 184 163 127]\n",
      " [146 135 124 168]\n",
      " [164 164 104 123]]\n"
     ]
    }
   ],
   "source": [
    "# a = np.random.randint(100, 200, (6, 4))\n",
    "M, N = 6, 4\n",
    "a = np.random.randint(100, 200, (M, N))   # sinh số ngẫu nhiên trong [100, 200)\n",
    "# ...\n",
    "\n",
    "print(\"Ma trận a: \\n\", a)"
   ]
  },
  {
   "cell_type": "markdown",
   "id": "8bc353b9-1740-4e94-b779-eae046171142",
   "metadata": {},
   "source": [
    "#### 2. Các thao tác trên ma trận a\n",
    "(a) In ra ma trận chuyển vị <br/>\n",
    "(b) In ra phần tử ở vị trí dòng 2 cột 3 <br/>\n",
    "(c) Trích xuất dòng đầu, dòng cuối, dòng 2 <br/>\n",
    "(d) Trích xuất cột kế cuối, cột đầu <br/>\n",
    "(e) Đảo các giá trị trên từng cột <br/>\n",
    "(f) Tính tổng các dòng, trung bình các cột <br/>"
   ]
  },
  {
   "cell_type": "code",
   "execution_count": 4,
   "id": "5236b916-3dda-4444-8004-9a6ab8d80df4",
   "metadata": {},
   "outputs": [
    {
     "name": "stdout",
     "output_type": "stream",
     "text": [
      "a. In ra ma trận chuyển vị: \n",
      "[[136 111 146 154 146 164]\n",
      " [126 151 117 184 135 164]\n",
      " [151 181 137 163 124 104]\n",
      " [174 125 166 127 168 123]]\n",
      "\n",
      "b. In ra phần tử ở vị trí dòng 2 cột 3: 181\n",
      "\n",
      "c. Trích xuất các dòng: \n",
      "   + Dòng đầu : [136 126 151 174]\n",
      "   + Dòng cuối: [164 164 104 123]\n",
      "   + Dòng hai : [111 151 181 125]\n",
      "\n",
      "d. Trích xuất các cột: \n",
      "   + Cột kế cuối: [151 181 137 163 124 104]\n",
      "   + Cột đầu: [136 111 146 154 146 164]\n",
      "\n",
      "e. Đảo các giá trị trên từng cột: \n",
      " [[164 164 104 123]\n",
      " [146 135 124 168]\n",
      " [154 184 163 127]\n",
      " [146 117 137 166]\n",
      " [111 151 181 125]\n",
      " [136 126 151 174]]\n",
      "\n",
      "f. Phép tính theo trục:\n",
      "   + Tổng dòng: [587 568 566 628 573 555]\n",
      "   + Trung bình cột: [142.83333333 146.16666667 143.33333333 147.16666667]\n"
     ]
    }
   ],
   "source": [
    "# (a) Ma trận chuyển vị\n",
    "a_t = a.T\n",
    "\n",
    "# (b) Phần tử dòng 2 cột 3 (chỉ số bắt đầu từ 0 → dòng 1, cột 2)\n",
    "v_23 = a[1, 2]\n",
    "\n",
    "# (c) Trích xuất dòng đầu, dòng cuối, dòng 2\n",
    "d_0 = a[0]\n",
    "d_last = a[-1]\n",
    "d_2 = a[1]\n",
    "\n",
    "# (d) Trích xuất cột kế cuối, cột đầu\n",
    "c_l1 = a[:, -2]\n",
    "c_0 = a[:, 0]\n",
    "\n",
    "# (e) Đảo các giá trị trên từng cột (đảo ngược các dòng theo cột)\n",
    "dao_cot = a[::-1, :]\n",
    "\n",
    "# (f) Tính tổng các dòng, trung bình các cột\n",
    "tong_dong = np.sum(a, axis=1)   # tổng theo dòng\n",
    "tb_cot = np.mean(a, axis=0)     # trung bình theo cột\n",
    "# ...\n",
    "\n",
    "print(f\"a. In ra ma trận chuyển vị: \\n{a_t}\")\n",
    "print(f\"\\nb. In ra phần tử ở vị trí dòng 2 cột 3: {v_23}\")\n",
    "print(f\"\\nc. Trích xuất các dòng: \")\n",
    "print(f\"   + Dòng đầu : {d_0}\")\n",
    "print(f\"   + Dòng cuối: {d_last}\")\n",
    "print(f\"   + Dòng hai : {d_2}\")\n",
    "print(f\"\\nd. Trích xuất các cột: \")\n",
    "print(f\"   + Cột kế cuối: {c_l1}\")\n",
    "print(f\"   + Cột đầu: {c_0}\")\n",
    "print(f\"\\ne. Đảo các giá trị trên từng cột: \\n {dao_cot}\")\n",
    "print(f\"\\nf. Phép tính theo trục:\")\n",
    "print(f\"   + Tổng dòng: {tong_dong}\")\n",
    "print(f\"   + Trung bình cột: {tb_cot}\")"
   ]
  },
  {
   "cell_type": "markdown",
   "id": "bca46803-13a7-4324-b719-0bffd7110119",
   "metadata": {},
   "source": [
    "#### 3. Các toán tử trên hai ma trận\n",
    "(a) Tạo hai ma trận A và B có 4 dòng x 3 cột và X có 3 dòng x 4 cột <br/>\n",
    "(b) Tính tổng, hiệu, tích của từng phần tử trên hai ma trận A và B <br/>\n",
    "(c) Tính phép nhân ma trận Y = A x X"
   ]
  },
  {
   "cell_type": "code",
   "execution_count": 5,
   "id": "86d9c4ed-e86c-4baf-b51b-9dbd20e5c3cb",
   "metadata": {},
   "outputs": [
    {
     "name": "stdout",
     "output_type": "stream",
     "text": [
      "a. Tạo hai ma trận A và B có 4 dòng x 3 cột và X có 3 dòng x 4 cột\n",
      "+ Ma tran A: \n",
      "[[8 5 1]\n",
      " [1 4 1]\n",
      " [6 1 6]\n",
      " [7 2 2]]\n",
      "+ Ma tran B: \n",
      "[[4 9 1]\n",
      " [4 6 3]\n",
      " [4 6 6]\n",
      " [3 3 9]]\n",
      "+ Ma tran X: \n",
      "[[7 3 4 4]\n",
      " [3 6 9 4]\n",
      " [4 5 1 1]]\n",
      "\n",
      "b. Tính tổng, hiệu, tích của từng phần tử trên hai ma trận A và B\n",
      "A + B = \n",
      "[[12 14  2]\n",
      " [ 5 10  4]\n",
      " [10  7 12]\n",
      " [10  5 11]]\n",
      "A - B = \n",
      "[[ 4 -4  0]\n",
      " [-3 -2 -2]\n",
      " [ 2 -5  0]\n",
      " [ 4 -1 -7]]\n",
      "A . B = \n",
      "[[32 45  1]\n",
      " [ 4 24  3]\n",
      " [24  6 36]\n",
      " [21  6 18]]\n",
      "\n",
      "c. Tính phép nhân ma trận Y = A x X\n",
      "Y = A x X --> shape A ((4, 3)) x shape X ((3, 4)) = shape Y ((4, 4)) \n",
      "[[75 59 78 53]\n",
      " [23 32 41 21]\n",
      " [69 54 39 34]\n",
      " [63 43 48 38]]\n"
     ]
    }
   ],
   "source": [
    "# (a) Tạo ma trận\n",
    "A = np.random.randint(1, 10, (4, 3))   # 4 dòng x 3 cột\n",
    "B = np.random.randint(1, 10, (4, 3))   # 4 dòng x 3 cột\n",
    "X = np.random.randint(1, 10, (3, 4))   # 3 dòng x 4 cột\n",
    "\n",
    "# (b) Tính tổng, hiệu, tích phần tử của A và B\n",
    "AB_add = A + B\n",
    "AB_sub = A - B\n",
    "AB_mul = A * B   # phép nhân từng phần tử (Hadamard product)\n",
    "\n",
    "# (c) Nhân ma trận Y = A x X\n",
    "Y = np.dot(A, X)   # hoặc A @ X\n",
    "# ...\n",
    "\n",
    "print(\"a. Tạo hai ma trận A và B có 4 dòng x 3 cột và X có 3 dòng x 4 cột\")\n",
    "print(f\"+ Ma tran A: \\n{A}\")\n",
    "print(f\"+ Ma tran B: \\n{B}\")\n",
    "print(f\"+ Ma tran X: \\n{X}\")\n",
    "\n",
    "print(\"\\nb. Tính tổng, hiệu, tích của từng phần tử trên hai ma trận A và B\")\n",
    "print(f\"A + B = \\n{AB_add}\")\n",
    "print(f\"A - B = \\n{AB_sub}\")\n",
    "print(f\"A . B = \\n{AB_mul}\")\n",
    "\n",
    "print(\"\\nc. Tính phép nhân ma trận Y = A x X\")\n",
    "print(f\"Y = A x X --> shape A ({A.shape}) x shape X ({X.shape}) = shape Y ({Y.shape}) \\n{Y}\")"
   ]
  },
  {
   "cell_type": "markdown",
   "id": "43602379-f77d-44ba-b2e3-23f85c6bcf5a",
   "metadata": {},
   "source": [
    "#### 4. Giải hệ phương trình tuyến tính\n",
    "Giải hệ phương trình tuyến tính sau:\n",
    "$$\n",
    "\\left\\{\\begin{matrix}\n",
    "        4x_1  + 3x_2 - 5x_3 = 2 \\\\ \n",
    "        -2x_1 - 4x_2 + 5x_3 = 5 \\\\ \n",
    "        8x_1 + 8x_2 = -3 \\\\ \n",
    "\\end{matrix}\\right.\n",
    "$$"
   ]
  },
  {
   "cell_type": "code",
   "execution_count": 6,
   "id": "53db2e93-fcbe-49f6-a4dd-482d22bcda54",
   "metadata": {},
   "outputs": [
    {
     "name": "stdout",
     "output_type": "stream",
     "text": [
      "+ Ma tran A: \n",
      "[[ 4  3 -5]\n",
      " [-2 -4  5]\n",
      " [ 8  8  0]]\n",
      "+ Vector y: [ 2  5 -3]\n",
      "+ Nghiem x: [ 2.20833333 -2.58333333 -0.18333333]\n",
      "+ Kiem tra: yy = Ax = [ 2.  5. -3.] ==> ||yy -y ||_2 =  0.00\n"
     ]
    }
   ],
   "source": [
    "# Ma trận hệ số\n",
    "A = np.array([[ 4,  3, -5],\n",
    "              [-2, -4,  5],\n",
    "              [ 8,  8,  0]])\n",
    "\n",
    "# Vector vế phải\n",
    "y = np.array([2, 5, -3])\n",
    "\n",
    "# Giải hệ phương trình A x = y\n",
    "x = np.linalg.solve(A, y)\n",
    "\n",
    "# Kiểm tra lại\n",
    "yy = A @ x\n",
    "diff = np.linalg.norm(yy - y, 2)   # chuẩn L2\n",
    "# ...\n",
    "\n",
    "print(f\"+ Ma tran A: \\n{A}\")\n",
    "print(f\"+ Vector y: {y}\")\n",
    "print(f\"+ Nghiem x: {x}\")\n",
    "print(f\"+ Kiem tra: yy = Ax = {yy} ==> ||yy -y ||_2 = {diff: .2f}\")"
   ]
  },
  {
   "cell_type": "markdown",
   "id": "526b7e20-beca-4087-9cab-02ccc0a8f856",
   "metadata": {},
   "source": [
    "## Bài tập áp dụng"
   ]
  },
  {
   "cell_type": "markdown",
   "id": "9ee067fb-2045-4d3e-b504-ff4a8c3dcf37",
   "metadata": {},
   "source": [
    "### Bài 3. Tính gần đúng số pi dùng phương pháp Monte Carlo\n",
    "\n",
    "Vẽ một đường tròn $C$ có bán kính $r$ nội tiếp một hình vuông $C$, và đặt ngẫu nhiên $N$ chấm lên hình vuông. Tỉ lệ các chấm nằm trong hình tròn trên tổng số chấm xấp xỉ bằng diện tích của hình tròn chia cho hình vuông như sau:\n",
    "$$\n",
    "\\frac{N_C}{N} \\approx  \\frac{\\mathbb{S}_C}{\\mathbb{S}_N}\n",
    "$$\n",
    "nơi mà $N_C$ là các chấm trong hình tròn, $N$ là tổng số chấm, $\\mathbb{S}_C$ và $\\mathbb{S}_N$ lần lượt là diện tích của hình tròn và hình vuông.\n",
    "$$ \\mathbb{S}_C = \\pi * r^2 $$\n",
    "$$ \\mathbb{S}_N = (2*r)^2 = 4r^2 $$\n",
    "Do đó, công thức trên trở thành:\n",
    "$$\n",
    "\\frac{N_C}{N} \\approx \\frac{\\pi * r^2}{4r^2} = \\frac{\\pi}{4}\n",
    "$$\n",
    "Suy ra, ta có giá trị số $\\pi$ được tính như sau:\n",
    "$$\n",
    "\\pi \\approx \\frac{4N_C}{N}\n",
    "$$\n",
    "\n",
    "Các bạn hãy lập trình tính sấp xỉ số $\\pi$ dùng phương pháp Monte Carlo. Cho biết các sai số với $N = 100$, $N = 10000$, và $N = 1000000$. Vẽ đồ thị minh họa cho chương trình.\n",
    "\n",
    "**Hướng dẫn**: Viết chương trình phát sinh $N$ điểm $(x_i, y_i)$ với $x_i, y_i \\in [-1, -1]$. $(x_i, y_i)$ thuộc hình tròn tâm $(0, 0)$ bán kính 1 nội tiếp hình vuông có tâm tại $(0, 0)$ độ dài cạnh 2 khi và chỉ khi $x_i^2 + y_i^2 <= 1$."
   ]
  },
  {
   "cell_type": "code",
   "execution_count": 7,
   "id": "793640f7-4ba5-4d27-9d52-a65f4c25a5b0",
   "metadata": {},
   "outputs": [
    {
     "data": {
      "image/png": "[encoded data removed]",
      "text/plain": [
       "<Figure size 600x600 with 1 Axes>"
      ]
     },
     "metadata": {},
     "output_type": "display_data"
    }
   ],
   "source": [
    "import matplotlib.pyplot as plt # khai báo thư viện vẽ pyplot\n",
    "import math\n",
    "\n",
    "circle = plt.Circle((0, 0), 1, color='g') # tạo đối tượng vòng tròn\n",
    "\n",
    "fig, ax = plt.subplots(figsize=(6, 6)) # lấy figure và vùng vẽ\n",
    "\n",
    "plt.plot(0, 0, 'o', color=(0.9, 0.9, 1.0), alpha=0.8) # vẽ điểm tại tâm (0,0)\n",
    "ax.add_patch(circle) # thêm vòng tròn vào vùng vẽ\n",
    "\n",
    "x = 0.75; y = math.sqrt(1 - (x ** 2)) # (x = 0.75, y = căn bậc 2 của 1 - x^2)\n",
    "plt.arrow(0, 0, x, y)\n",
    "\n",
    "plt.xlim(-1, 1) # giới hạn trục x\n",
    "plt.ylim(-1, 1) # giới hạn trục y\n",
    "\n",
    "plt.savefig('pi.png') # lưu đồ thị xuống tập tin\n",
    "plt.show()            # hiển thị đồ thị"
   ]
  },
  {
   "cell_type": "code",
   "execution_count": 9,
   "id": "bef335d2-9e51-4fa5-8843-aa1d67a607f0",
   "metadata": {},
   "outputs": [],
   "source": [
    "import numpy as np\n",
    "\n",
    "def calc_pi_monte_carlo(n = 100):\n",
    "    pi = 0\n",
    "    \n",
    "    # gợi ý: sử dụng np.random.rand(s1, s2, ...) --> sinh ngẫu nhiên các số trong nửa đoạn [0.0, 1.0)\n",
    "    x = np.random.rand(n) * 2 - 1   # sinh ngẫu nhiên n điểm trong [-1, 1]\n",
    "    y = np.random.rand(n) * 2 - 1\n",
    "    inside_circle = (x**2 + y**2) <= 1   # kiểm tra xem có nằm trong hình tròn không\n",
    "    Nc = np.sum(inside_circle)          # đếm số điểm trong hình tròn\n",
    "    pi = 4 * Nc / n                     # công thức xấp xỉ pi\n",
    "    # ...\n",
    "    \n",
    "    return pi\n",
    "# calc_pi_monte_carlo"
   ]
  },
  {
   "cell_type": "code",
   "execution_count": 10,
   "id": "91071758-5957-497b-a5d1-2f2d17df6fae",
   "metadata": {},
   "outputs": [
    {
     "name": "stdout",
     "output_type": "stream",
     "text": [
      "epsilon(n=100):  -0.02159265358979301\n",
      "epsilon(n=100):  0.018407346410207026\n",
      "epsilon(n=10000):  -0.0247926535897931\n",
      "epsilon(n=10000):  0.03120734641020695\n",
      "epsilon(n=1000000):  -0.0034446535897929564\n",
      "epsilon(n=1000000):  -0.0008566535897931438\n"
     ]
    }
   ],
   "source": [
    "import math\n",
    "\n",
    "print(\"epsilon(n=100): \", calc_pi_monte_carlo(n = 100) - math.pi)\n",
    "print(\"epsilon(n=100): \", calc_pi_monte_carlo(n = 100) - math.pi)\n",
    "print(\"epsilon(n=10000): \", calc_pi_monte_carlo(n = 10000) - math.pi)\n",
    "print(\"epsilon(n=10000): \", calc_pi_monte_carlo(n = 10000) - math.pi)\n",
    "print(\"epsilon(n=1000000): \", calc_pi_monte_carlo(n = 1000000) - math.pi)\n",
    "print(\"epsilon(n=1000000): \", calc_pi_monte_carlo(n = 1000000) - math.pi)"
   ]
  }
 ],
 "metadata": {
  "kernelspec": {
   "display_name": "Python 3",
   "language": "python",
   "name": "python3"
  },
  "language_info": {
   "codemirror_mode": {
    "name": "ipython",
    "version": 3
   },
   "file_extension": ".py",
   "mimetype": "text/x-python",
   "name": "python",
   "nbconvert_exporter": "python",
   "pygments_lexer": "ipython3",
   "version": "3.13.3"
  }
 },
 "nbformat": 4,
 "nbformat_minor": 5
}
