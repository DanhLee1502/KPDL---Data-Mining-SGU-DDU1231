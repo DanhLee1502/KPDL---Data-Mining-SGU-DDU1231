{
 "cells": [
  {
   "cell_type": "markdown",
   "id": "95d88b1c",
   "metadata": {},
   "source": [
    "# Thực hành\n"
   ]
  },
  {
   "cell_type": "markdown",
   "id": "f5a6888f",
   "metadata": {},
   "source": [
    "### Chạy file Python"
   ]
  },
  {
   "cell_type": "code",
   "execution_count": 8,
   "id": "1cb75843",
   "metadata": {},
   "outputs": [
    {
     "name": "stdout",
     "output_type": "stream",
     "text": [
      "Hello, Python World!\n"
     ]
    }
   ],
   "source": [
    "!python ex0_hello_world.py"
   ]
  },
  {
   "cell_type": "code",
   "execution_count": 9,
   "id": "ab5110ef",
   "metadata": {},
   "outputs": [
    {
     "name": "stdout",
     "output_type": "stream",
     "text": [
      "Hello, Python World!\n"
     ]
    }
   ],
   "source": [
    "%run ex0_hello_world.py"
   ]
  },
  {
   "cell_type": "markdown",
   "id": "f6e5ddce",
   "metadata": {},
   "source": [
    "### Tính toán đơn giản"
   ]
  },
  {
   "cell_type": "code",
   "execution_count": 10,
   "id": "c20e22b3",
   "metadata": {},
   "outputs": [
    {
     "name": "stdout",
     "output_type": "stream",
     "text": [
      "calculator Basic\n",
      "c = 2 + 3 = 5\n"
     ]
    }
   ],
   "source": [
    "%run ex1_calc.py"
   ]
  },
  {
   "cell_type": "code",
   "execution_count": 11,
   "id": "f7dedc81",
   "metadata": {},
   "outputs": [
    {
     "name": "stdout",
     "output_type": "stream",
     "text": [
      "Bán kính 3.0\n",
      "Chu vi hình tròn là:18.85\n",
      "Diện tích là:31.01\n"
     ]
    }
   ],
   "source": [
    "%run ex3_circle.py"
   ]
  },
  {
   "cell_type": "markdown",
   "id": "d0c55965",
   "metadata": {},
   "source": [
    "# Kết thúc"
   ]
  }
 ],
 "metadata": {
  "kernelspec": {
   "display_name": "base",
   "language": "python",
   "name": "python3"
  },
  "language_info": {
   "codemirror_mode": {
    "name": "ipython",
    "version": 3
   },
   "file_extension": ".py",
   "mimetype": "text/x-python",
   "name": "python",
   "nbconvert_exporter": "python",
   "pygments_lexer": "ipython3",
   "version": "3.13.5"
  }
 },
 "nbformat": 4,
 "nbformat_minor": 5
}
 
